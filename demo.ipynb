{
 "cells": [
  {
   "cell_type": "code",
   "execution_count": 6,
   "id": "10812e48-2582-472f-9c8e-2709796eaabc",
   "metadata": {},
   "outputs": [],
   "source": [
    "import torch\n",
    "from torch.distributions import *\n",
    "import numpy as np"
   ]
  },
  {
   "cell_type": "code",
   "execution_count": 24,
   "id": "3d780617-d11a-41f8-88c5-b721d04115d8",
   "metadata": {},
   "outputs": [],
   "source": [
    "prob = torch.tensor([0.9,0.2,0.3,0.3])\n",
    "\n",
    "m = Categorical(prob)"
   ]
  },
  {
   "cell_type": "code",
   "execution_count": 27,
   "id": "02943d38-945c-49a0-a73b-d8d13913c37a",
   "metadata": {},
   "outputs": [],
   "source": [
    "p = [0,0,0,0]\n",
    "for _ in range(100000):\n",
    "    i = m.sample()\n",
    "    p[i]+=1"
   ]
  },
  {
   "cell_type": "code",
   "execution_count": 28,
   "id": "45334df1-ddb5-451c-b91c-c0bbd9b24350",
   "metadata": {},
   "outputs": [
    {
     "data": {
      "text/plain": [
       "[11114, 22495, 33340, 33051]"
      ]
     },
     "execution_count": 28,
     "metadata": {},
     "output_type": "execute_result"
    }
   ],
   "source": [
    "p"
   ]
  },
  {
   "cell_type": "code",
   "execution_count": null,
   "id": "d3026c68-5ae3-4245-9f3a-e64074f6c6f7",
   "metadata": {},
   "outputs": [],
   "source": []
  }
 ],
 "metadata": {
  "kernelspec": {
   "display_name": "Python 3 (ipykernel)",
   "language": "python",
   "name": "python3"
  },
  "language_info": {
   "codemirror_mode": {
    "name": "ipython",
    "version": 3
   },
   "file_extension": ".py",
   "mimetype": "text/x-python",
   "name": "python",
   "nbconvert_exporter": "python",
   "pygments_lexer": "ipython3",
   "version": "3.9.19"
  }
 },
 "nbformat": 4,
 "nbformat_minor": 5
}
